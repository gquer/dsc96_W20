{
 "cells": [
  {
   "cell_type": "code",
   "execution_count": 1,
   "metadata": {},
   "outputs": [
    {
     "ename": "NameError",
     "evalue": "name 'display' is not defined",
     "output_type": "error",
     "traceback": [
      "\u001b[0;31m---------------------------------------------------------------------------\u001b[0m",
      "\u001b[0;31mNameError\u001b[0m                                 Traceback (most recent call last)",
      "\u001b[0;32m<ipython-input-1-eb5b2cb8de37>\u001b[0m in \u001b[0;36m<module>\u001b[0;34m()\u001b[0m\n\u001b[1;32m      2\u001b[0m \u001b[0;32mfrom\u001b[0m \u001b[0mPIL\u001b[0m \u001b[0;32mimport\u001b[0m \u001b[0mImageFilter\u001b[0m\u001b[0;34m\u001b[0m\u001b[0m\n\u001b[1;32m      3\u001b[0m \u001b[0mimage\u001b[0m \u001b[0;34m=\u001b[0m \u001b[0mImage\u001b[0m\u001b[0;34m.\u001b[0m\u001b[0mopen\u001b[0m\u001b[0;34m(\u001b[0m\u001b[0;34m\"data/HDSI.png\"\u001b[0m\u001b[0;34m)\u001b[0m\u001b[0;34m\u001b[0m\u001b[0m\n\u001b[0;32m----> 4\u001b[0;31m \u001b[0mdisplay\u001b[0m\u001b[0;34m(\u001b[0m\u001b[0mimage\u001b[0m\u001b[0;34m)\u001b[0m\u001b[0;34m\u001b[0m\u001b[0m\n\u001b[0m",
      "\u001b[0;31mNameError\u001b[0m: name 'display' is not defined"
     ]
    }
   ],
   "source": [
    "from PIL import Image\n",
    "from PIL import ImageFilter\n",
    "image = Image.open(\"data/HDSI.png\")\n",
    "display(image)"
   ]
  },
  {
   "cell_type": "markdown",
   "metadata": {},
   "source": [
    "# Introduction to Image Processing\n",
    "\n",
    "Credit: Colin Jemmott\n",
    "\n",
    "### Description\n",
    "\n",
    "In today's lecture, \"Images are Data!\" you learned that raster images are a esentially just arrays of numbers, and that these numbers can be manipulated to modify the image.  In this project we will use `Pillow` (a fork of the Python Image Library) and `numpy` to open, display,and manipulate images.\n",
    "\n",
    "\n",
    "### Note\n",
    "\n",
    "This notebook uses [pillow](https://pillow.readthedocs.io/en/latest/).  It should already be installed in your environment, but if not you can install it:\n",
    "```\n",
    "! pip install Pillow\n",
    "```\n",
    "\n",
    "### References\n",
    "\n",
    "* http://paulbourke.net/dataformats/bitmaps/"
   ]
  },
  {
   "cell_type": "markdown",
   "metadata": {},
   "source": [
    "## Step 1: Open and Display"
   ]
  },
  {
   "cell_type": "code",
   "execution_count": 2,
   "metadata": {
    "collapsed": true
   },
   "outputs": [],
   "source": [
    "from PIL import Image\n",
    "from PIL import ImageFilter"
   ]
  },
  {
   "cell_type": "code",
   "execution_count": 3,
   "metadata": {
    "collapsed": true
   },
   "outputs": [],
   "source": [
    "image = Image.open(\"data/test.bmp\")"
   ]
  },
  {
   "cell_type": "code",
   "execution_count": 4,
   "metadata": {},
   "outputs": [
    {
     "ename": "NameError",
     "evalue": "name 'display' is not defined",
     "output_type": "error",
     "traceback": [
      "\u001b[0;31m---------------------------------------------------------------------------\u001b[0m",
      "\u001b[0;31mNameError\u001b[0m                                 Traceback (most recent call last)",
      "\u001b[0;32m<ipython-input-4-4eaa8c08c9a0>\u001b[0m in \u001b[0;36m<module>\u001b[0;34m()\u001b[0m\n\u001b[0;32m----> 1\u001b[0;31m \u001b[0mdisplay\u001b[0m\u001b[0;34m(\u001b[0m\u001b[0mimage\u001b[0m\u001b[0;34m)\u001b[0m\u001b[0;34m\u001b[0m\u001b[0m\n\u001b[0m",
      "\u001b[0;31mNameError\u001b[0m: name 'display' is not defined"
     ]
    }
   ],
   "source": [
    "display(image)"
   ]
  },
  {
   "cell_type": "markdown",
   "metadata": {},
   "source": [
    "## Step 2: Scale\n",
    "\n",
    "Hmmm, that looks very small.  Let's make sure it is, and then scale it up."
   ]
  },
  {
   "cell_type": "code",
   "execution_count": 5,
   "metadata": {},
   "outputs": [
    {
     "data": {
      "text/plain": [
       "(8, 4)"
      ]
     },
     "execution_count": 5,
     "metadata": {},
     "output_type": "execute_result"
    }
   ],
   "source": [
    "image.size"
   ]
  },
  {
   "cell_type": "code",
   "execution_count": 6,
   "metadata": {
    "collapsed": true
   },
   "outputs": [],
   "source": [
    "# this function prints a larger version of the image!\n",
    "def printLargeImage(smallImage):\n",
    "    maxsize = tuple([50*x for x in smallImage.size])\n",
    "    largeImage = smallImage.resize(maxsize)\n",
    "    display(largeImage)\n",
    "    return"
   ]
  },
  {
   "cell_type": "code",
   "execution_count": 7,
   "metadata": {},
   "outputs": [
    {
     "ename": "NameError",
     "evalue": "global name 'display' is not defined",
     "output_type": "error",
     "traceback": [
      "\u001b[0;31m---------------------------------------------------------------------------\u001b[0m",
      "\u001b[0;31mNameError\u001b[0m                                 Traceback (most recent call last)",
      "\u001b[0;32m<ipython-input-7-0df0c8e0240c>\u001b[0m in \u001b[0;36m<module>\u001b[0;34m()\u001b[0m\n\u001b[0;32m----> 1\u001b[0;31m \u001b[0mprintLargeImage\u001b[0m\u001b[0;34m(\u001b[0m\u001b[0mimage\u001b[0m\u001b[0;34m)\u001b[0m\u001b[0;34m\u001b[0m\u001b[0m\n\u001b[0m",
      "\u001b[0;32m<ipython-input-6-d63f6697f6e2>\u001b[0m in \u001b[0;36mprintLargeImage\u001b[0;34m(smallImage)\u001b[0m\n\u001b[1;32m      3\u001b[0m     \u001b[0mmaxsize\u001b[0m \u001b[0;34m=\u001b[0m \u001b[0mtuple\u001b[0m\u001b[0;34m(\u001b[0m\u001b[0;34m[\u001b[0m\u001b[0;36m50\u001b[0m\u001b[0;34m*\u001b[0m\u001b[0mx\u001b[0m \u001b[0;32mfor\u001b[0m \u001b[0mx\u001b[0m \u001b[0;32min\u001b[0m \u001b[0msmallImage\u001b[0m\u001b[0;34m.\u001b[0m\u001b[0msize\u001b[0m\u001b[0;34m]\u001b[0m\u001b[0;34m)\u001b[0m\u001b[0;34m\u001b[0m\u001b[0m\n\u001b[1;32m      4\u001b[0m     \u001b[0mlargeImage\u001b[0m \u001b[0;34m=\u001b[0m \u001b[0msmallImage\u001b[0m\u001b[0;34m.\u001b[0m\u001b[0mresize\u001b[0m\u001b[0;34m(\u001b[0m\u001b[0mmaxsize\u001b[0m\u001b[0;34m)\u001b[0m\u001b[0;34m\u001b[0m\u001b[0m\n\u001b[0;32m----> 5\u001b[0;31m     \u001b[0mdisplay\u001b[0m\u001b[0;34m(\u001b[0m\u001b[0mlargeImage\u001b[0m\u001b[0;34m)\u001b[0m\u001b[0;34m\u001b[0m\u001b[0m\n\u001b[0m\u001b[1;32m      6\u001b[0m     \u001b[0;32mreturn\u001b[0m\u001b[0;34m\u001b[0m\u001b[0m\n",
      "\u001b[0;31mNameError\u001b[0m: global name 'display' is not defined"
     ]
    }
   ],
   "source": [
    "printLargeImage(image)"
   ]
  },
  {
   "cell_type": "markdown",
   "metadata": {},
   "source": [
    "## Step 3: Let's look at the data!"
   ]
  },
  {
   "cell_type": "code",
   "execution_count": 8,
   "metadata": {},
   "outputs": [
    {
     "data": {
      "text/plain": [
       "array([[255, 255, 192, 192, 128, 128,   0,   0],\n",
       "       [255, 255, 192, 192, 128, 128,   0,   0],\n",
       "       [255, 255, 255, 255, 255, 255, 255, 255],\n",
       "       [  0,   0,   0,   0, 255, 192,   0,   0]], dtype=uint8)"
      ]
     },
     "execution_count": 8,
     "metadata": {},
     "output_type": "execute_result"
    }
   ],
   "source": [
    "import numpy as np\n",
    "\n",
    "# let's look at how is the image made!\n",
    "imageData = np.array(image)\n",
    "imageData[:,:,0]\n",
    "\n"
   ]
  },
  {
   "cell_type": "markdown",
   "metadata": {},
   "source": [
    "## Step 4: Manipulating the Image \n",
    "### get rid of the RED line!\n",
    "\n",
    "Ok, take a good look at the `test.bmp` image and the resulting array above.  Can you figure out how the numbers map to the image?  \n",
    "\n",
    "*Hint*:\n",
    "* The image is 8 pixels by 4 pixels\n",
    "* For each pixel there are 3 color intensities (RGB)\n",
    "\n",
    "Once you figure the mapping between the array and the image, write some code that will remove all of the red from that image.  Then display it to verify (it should have no red!)."
   ]
  },
  {
   "cell_type": "code",
   "execution_count": 9,
   "metadata": {},
   "outputs": [
    {
     "ename": "NameError",
     "evalue": "global name 'display' is not defined",
     "output_type": "error",
     "traceback": [
      "\u001b[0;31m---------------------------------------------------------------------------\u001b[0m",
      "\u001b[0;31mNameError\u001b[0m                                 Traceback (most recent call last)",
      "\u001b[0;32m<ipython-input-9-fff203b41e42>\u001b[0m in \u001b[0;36m<module>\u001b[0;34m()\u001b[0m\n\u001b[1;32m      2\u001b[0m \u001b[0;34m\u001b[0m\u001b[0m\n\u001b[1;32m      3\u001b[0m \u001b[0;31m# this is our previous image\u001b[0m\u001b[0;34m\u001b[0m\u001b[0;34m\u001b[0m\u001b[0m\n\u001b[0;32m----> 4\u001b[0;31m \u001b[0mprintLargeImage\u001b[0m\u001b[0;34m(\u001b[0m\u001b[0mimage\u001b[0m\u001b[0;34m)\u001b[0m\u001b[0;34m\u001b[0m\u001b[0m\n\u001b[0m\u001b[1;32m      5\u001b[0m \u001b[0;34m\u001b[0m\u001b[0m\n\u001b[1;32m      6\u001b[0m \u001b[0;31m# this is a separate copy of image data (so we never modify the original one)\u001b[0m\u001b[0;34m\u001b[0m\u001b[0;34m\u001b[0m\u001b[0m\n",
      "\u001b[0;32m<ipython-input-6-d63f6697f6e2>\u001b[0m in \u001b[0;36mprintLargeImage\u001b[0;34m(smallImage)\u001b[0m\n\u001b[1;32m      3\u001b[0m     \u001b[0mmaxsize\u001b[0m \u001b[0;34m=\u001b[0m \u001b[0mtuple\u001b[0m\u001b[0;34m(\u001b[0m\u001b[0;34m[\u001b[0m\u001b[0;36m50\u001b[0m\u001b[0;34m*\u001b[0m\u001b[0mx\u001b[0m \u001b[0;32mfor\u001b[0m \u001b[0mx\u001b[0m \u001b[0;32min\u001b[0m \u001b[0msmallImage\u001b[0m\u001b[0;34m.\u001b[0m\u001b[0msize\u001b[0m\u001b[0;34m]\u001b[0m\u001b[0;34m)\u001b[0m\u001b[0;34m\u001b[0m\u001b[0m\n\u001b[1;32m      4\u001b[0m     \u001b[0mlargeImage\u001b[0m \u001b[0;34m=\u001b[0m \u001b[0msmallImage\u001b[0m\u001b[0;34m.\u001b[0m\u001b[0mresize\u001b[0m\u001b[0;34m(\u001b[0m\u001b[0mmaxsize\u001b[0m\u001b[0;34m)\u001b[0m\u001b[0;34m\u001b[0m\u001b[0m\n\u001b[0;32m----> 5\u001b[0;31m     \u001b[0mdisplay\u001b[0m\u001b[0;34m(\u001b[0m\u001b[0mlargeImage\u001b[0m\u001b[0;34m)\u001b[0m\u001b[0;34m\u001b[0m\u001b[0m\n\u001b[0m\u001b[1;32m      6\u001b[0m     \u001b[0;32mreturn\u001b[0m\u001b[0;34m\u001b[0m\u001b[0m\n",
      "\u001b[0;31mNameError\u001b[0m: global name 'display' is not defined"
     ]
    }
   ],
   "source": [
    "import copy\n",
    "\n",
    "# this is our previous image\n",
    "printLargeImage(image)\n",
    "\n",
    "# this is a separate copy of image data (so we never modify the original one)\n",
    "imageData2 = copy.deepcopy(imageData)\n",
    "\n",
    "# Your code goes here:\n",
    "imageData2[2,:,0] = 0\n",
    "imageData2[2,:,2] = 255\n",
    "\n",
    "\n",
    "\n",
    "image2 = Image.fromarray(imageData2)\n",
    "printLargeImage(image2)"
   ]
  },
  {
   "cell_type": "markdown",
   "metadata": {},
   "source": [
    "## Project 1: Bigger Image\n",
    "\n",
    "Now that you have the basics down, let's start working with a larger image, `bear.jpg`.\n",
    "\n",
    "The goal of this project is for you to get comfortable manipulating images in Python.  It is best to start by reviewing what is possible in the [Pillow documentation](https://pillow.readthedocs.io/en/latest/).  There are lots of fun things like making thumbnails, rotating, filters, cropping, layering, etc. This is an easy tutorial with some code ready to be used: [Pillow Tutorial](https://pillow.readthedocs.io/en/stable/handbook/tutorial.html).\n",
    "\n",
    "Do at least three different types of modifications to `bear.jpg`! (can you make the bear look \"scary\"?)\n",
    "\n",
    "Remember to comment all the code you write!"
   ]
  },
  {
   "cell_type": "code",
   "execution_count": null,
   "metadata": {
    "collapsed": true
   },
   "outputs": [],
   "source": [
    "# as an example, let's try with our first small image\n",
    "\n",
    "print('Original:')\n",
    "printLargeImage(image)\n",
    "\n",
    "# crop the image:\n",
    "box = (1, 1, 3, 3)\n",
    "region = image.crop(box)\n",
    "print('Region:')\n",
    "printLargeImage(region)\n",
    "\n",
    "# rotate part of the image!\n",
    "region = region.transpose(Image.ROTATE_180)\n",
    "image2 = image\n",
    "image2.paste(region, box)\n",
    "print('Modified:')\n",
    "printLargeImage(image2)\n",
    "\n",
    "# change colors\n",
    "r, g, b = image2.split()\n",
    "temp = Image.merge(\"RGB\", (b, b, g))\n",
    "print('More modified:')\n",
    "printLargeImage(temp)"
   ]
  },
  {
   "cell_type": "code",
   "execution_count": null,
   "metadata": {
    "collapsed": true
   },
   "outputs": [],
   "source": [
    "bear = Image.open('data/bear.jpg')\n",
    "display(bear)"
   ]
  },
  {
   "cell_type": "code",
   "execution_count": null,
   "metadata": {
    "collapsed": true
   },
   "outputs": [],
   "source": [
    "# Add your code here\n",
    "\n"
   ]
  },
  {
   "cell_type": "markdown",
   "metadata": {},
   "source": [
    "# Project 2: Edge Detection\n",
    "\n",
    "Begin with the twitter logo image `data/twitter.png`, then try it on `data/bear.jpg` from above.\n",
    "\n",
    "## Goal\n",
    "\n",
    "For this project you will implement a very basic edge detection algorithm by following these steps:\n",
    "\n",
    "1. Convert the image to grayscale\n",
    "2. Take the spatial gradient of the image\n",
    "3. Apply a threshold to the gradient\n",
    "4. Convert the result back to an image and display it\n",
    "\n",
    "## Note\n",
    "\n",
    "Edge detection is an active area of research with some pretty impressive algorithms.  This one is extremely simple, and so the results are only ok.\n",
    "\n",
    "After you finish this, you might enjoy reading the Wikipedia article on [Edge Detection](https://en.wikipedia.org/wiki/Edge_detection).\n",
    "\n",
    "## Hints\n",
    "\n",
    "* The `.convert('L')` method translates the image to grayscale.\n",
    "* There are many different ways to solve this problem, but using [`numpy.gradient`](https://docs.scipy.org/doc/numpy-1.13.0/reference/generated/numpy.gradient.html) will make it much easier.\n",
    "    - gradient outputs the differences between the pixels in the horizontal and vertical directions.\n",
    "    \n",
    "## Do not limit yourself to these images!\n",
    "* Download the image you want from the Internet\n",
    "* Try your code !"
   ]
  },
  {
   "cell_type": "code",
   "execution_count": null,
   "metadata": {
    "collapsed": true
   },
   "outputs": [],
   "source": [
    "import numpy as np \n",
    "twitter = Image.open('data/twitter.bmp')\n",
    "display(twitter)\n",
    "\n",
    "# how does it look like in numpy?\n",
    "twitterData = np.array(twitter)\n",
    "print(twitterData.shape)\n",
    "\n",
    "# notice that it is a 2D matrix (not a 3D) -> it is already in grayscale!\n",
    "\n",
    "\n",
    "# let's calculate the gradient from the 2D matrix\n",
    "twitterGradient = np.gradient(twitterData)\n",
    "print(type(twitterGradient)) # wait, this is a list!\n",
    "print(np.shape(np.array(twitterGradient))) # wrong dimensionality\n",
    "\n",
    "# ok, let's just look at the gradient on axis 1\n",
    "twitterGradient = np.gradient(twitterData, axis=1)\n",
    "twitterGradient = np.array(twitterGradient)\n",
    "print(np.shape(twitterGradient)) # ok dimensionality\n",
    "\n",
    "# let's check how it looks like\n",
    "print(np.min(twitterGradient))\n",
    "print(np.max(twitterGradient))\n",
    "\n",
    "# let's make it more \"extreme\" -> max to 250 !\n",
    "twitterGradient *= 250./np.max(twitterGradient)\n",
    "\n",
    "# let's check how it looks like\n",
    "print(np.min(twitterGradient))\n",
    "print(np.max(twitterGradient))\n",
    "\n",
    "# these values must be integers! attention that .astype does not change the format of the image in place\n",
    "twitterGradient = twitterGradient.astype('uint8')\n",
    "\n",
    "# let's check how it looks like\n",
    "print(np.min(twitterGradient))\n",
    "print(np.max(twitterGradient))\n",
    "\n",
    "imageEdges = Image.fromarray(twitterGradient)\n",
    "\n",
    "display(imageEdges)\n",
    "\n",
    "# NEXT: do it for the bear !\n",
    "# better to use: graybear = bear.convert('L')\n",
    "# can you merge axis=0  and axis=1, to get better results? (try with twitter first!)\n"
   ]
  },
  {
   "cell_type": "code",
   "execution_count": null,
   "metadata": {
    "collapsed": true
   },
   "outputs": [],
   "source": []
  },
  {
   "cell_type": "markdown",
   "metadata": {},
   "source": [
    "# Stretch Project: Image Processing From Scratch\n",
    "\n",
    "First, don't worry if you don't complete all (or any) of this - this section is a stretch goal and different students come in to this class with very different levels of programming.\n",
    "\n",
    "### Project Goal\n",
    "\n",
    "Write your own Instagram filter!\n",
    "\n",
    "The plot below shows histograms of the RGB colorspace.  Think about how you might manipulate the pixels to change those histograms and \"enhance\" your favorite photo."
   ]
  },
  {
   "cell_type": "code",
   "execution_count": null,
   "metadata": {
    "collapsed": true
   },
   "outputs": [],
   "source": [
    "%matplotlib notebook\n",
    "import matplotlib\n",
    "import numpy as np\n",
    "import matplotlib.pyplot as plt\n",
    "\n",
    "num_bins = 50\n",
    "\n",
    "fig, ax = plt.subplots(3, sharex=True)\n",
    "\n",
    "# the histogram of the data\n",
    "n, bins, patches = ax[0].hist(imageData[:,:,0].flatten(), num_bins, color=\"red\")\n",
    "n, bins, patches = ax[1].hist(imageData[:,:,1].flatten(), num_bins, color=\"green\")\n",
    "n, bins, patches = ax[2].hist(imageData[:,:,2].flatten(), num_bins, color=\"blue\")\n",
    "\n",
    "plt.show()"
   ]
  },
  {
   "cell_type": "code",
   "execution_count": null,
   "metadata": {
    "collapsed": true
   },
   "outputs": [],
   "source": []
  },
  {
   "cell_type": "code",
   "execution_count": null,
   "metadata": {
    "collapsed": true
   },
   "outputs": [],
   "source": []
  }
 ],
 "metadata": {
  "kernelspec": {
   "display_name": "Python [conda root]",
   "language": "python",
   "name": "conda-root-py"
  },
  "language_info": {
   "codemirror_mode": {
    "name": "ipython",
    "version": 2
   },
   "file_extension": ".py",
   "mimetype": "text/x-python",
   "name": "python",
   "nbconvert_exporter": "python",
   "pygments_lexer": "ipython2",
   "version": "2.7.6"
  }
 },
 "nbformat": 4,
 "nbformat_minor": 2
}
