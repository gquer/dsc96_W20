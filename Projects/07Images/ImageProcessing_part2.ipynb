{
 "cells": [
  {
   "cell_type": "markdown",
   "metadata": {},
   "source": [
    "# Introduction to Image Processing: part 2\n",
    "\n",
    "### Description\n",
    "\n",
    "We are re-using here some of the methods done in the previous notebook!"
   ]
  },
  {
   "cell_type": "markdown",
   "metadata": {},
   "source": [
    "## Step 1: Image compression"
   ]
  },
  {
   "cell_type": "code",
   "execution_count": null,
   "metadata": {},
   "outputs": [],
   "source": [
    "from PIL import Image\n",
    "from PIL import ImageFilter\n",
    "import numpy as np\n",
    "\n",
    "# this function prints a larger version of the image!\n",
    "def printLargeImage(smallImage,factor):\n",
    "    maxsize = tuple([factor*x for x in smallImage.size])\n",
    "    largeImage = smallImage.resize(maxsize)\n",
    "    display(largeImage)\n",
    "    return"
   ]
  },
  {
   "cell_type": "code",
   "execution_count": null,
   "metadata": {},
   "outputs": [],
   "source": [
    "#let's open an image:\n",
    "image = Image.open(\"data/bear_ORIGINAL.jpg\")\n",
    "\n",
    "# and let's visualize it:\n",
    "display(image)\n",
    "\n",
    "# first, let's read the image as a numpy array \n",
    "im_array = np.array(image)\n"
   ]
  },
  {
   "cell_type": "code",
   "execution_count": null,
   "metadata": {},
   "outputs": [],
   "source": [
    "# 1. compress the image (16 times smaller)\n",
    "compr = 4\n",
    "\n",
    "# the new image should have this size:\n",
    "im_compressed = np.zeros([int(im_array.shape[0]/compr),int(im_array.shape[1]/compr),3]).astype('uint8')\n",
    "\n",
    "# each pixel should be the average of... 16 pixels (still in RGB!) can you do that with few for loops?\n",
    "\n",
    "# ****************** \n",
    "# 1. YOUR CODE HERE"
   ]
  },
  {
   "cell_type": "code",
   "execution_count": null,
   "metadata": {},
   "outputs": [],
   "source": [
    "# let's print the image (factor 1 = current size, you can increase it if you want it larger)\n",
    "image2 = Image.fromarray(im_compressed)\n",
    "printLargeImage(image2,1)"
   ]
  },
  {
   "cell_type": "code",
   "execution_count": null,
   "metadata": {},
   "outputs": [],
   "source": []
  },
  {
   "cell_type": "code",
   "execution_count": null,
   "metadata": {},
   "outputs": [],
   "source": []
  },
  {
   "cell_type": "markdown",
   "metadata": {},
   "source": [
    "# Exercise 2: Edge Detection\n",
    "\n",
    "Begin with the twitter logo image `data/twitter.png`, then try it on `data/bear.jpg` from above.\n",
    "\n",
    "## Goal\n",
    "\n",
    "For this project you will implement a very basic edge detection algorithm by following these steps:\n",
    "\n",
    "1. Convert the image to grayscale\n",
    "2. Take the spatial gradient of the image\n",
    "3. Apply a threshold to the gradient\n",
    "4. Convert the result back to an image and display it\n",
    "\n",
    "## Note\n",
    "\n",
    "Edge detection is an active area of research with some pretty impressive algorithms.  This one is extremely simple, and so the results are only ok.\n",
    "\n",
    "After you finish this, you might enjoy reading the Wikipedia article on [Edge Detection](https://en.wikipedia.org/wiki/Edge_detection).\n",
    "\n",
    "## Hints\n",
    "\n",
    "* The `.convert('L')` method translates the image to grayscale.\n",
    "* There are many different ways to solve this problem, but using [`numpy.gradient`](https://docs.scipy.org/doc/numpy-1.13.0/reference/generated/numpy.gradient.html) will make it much easier.\n",
    "    - gradient outputs the differences between the pixels in the horizontal and vertical directions.\n",
    "    \n",
    "## Do not limit yourself to these images!\n",
    "* Download the image you want from the Internet\n",
    "* Try your code !"
   ]
  },
  {
   "cell_type": "code",
   "execution_count": null,
   "metadata": {},
   "outputs": [],
   "source": [
    "import numpy as np \n",
    "twitter = Image.open('data/twitter.bmp')\n",
    "display(twitter)\n",
    "\n",
    "# how does it look like in numpy?\n",
    "twitterData = np.array(twitter)\n",
    "print(twitterData.shape)\n",
    "\n",
    "# notice that it is a 2D matrix (not a 3D) -> it is already in grayscale!\n",
    "\n",
    "\n",
    "# let's calculate the gradient from the 2D matrix\n",
    "twitterGradient = np.gradient(twitterData)\n",
    "print(type(twitterGradient)) # wait, this is a list!\n",
    "print(np.shape(np.array(twitterGradient))) # wrong dimensionality\n",
    "\n",
    "# ok, let's just look at the gradient on axis 1\n",
    "twitterGradient = np.gradient(twitterData, axis=1)+ np.gradient(twitterData, axis=0)\n",
    "twitterGradient = np.array(twitterGradient)\n",
    "print(np.shape(twitterGradient)) # ok dimensionality\n",
    "\n",
    "# let's check how it looks like\n",
    "print(np.min(twitterGradient))\n",
    "print(np.max(twitterGradient))\n",
    "\n",
    "# let's make it more \"extreme\" -> max to 250 !\n",
    "twitterGradient *= 250./np.max(twitterGradient)\n",
    "\n",
    "# let's check how it looks like\n",
    "print(np.min(twitterGradient))\n",
    "print(np.max(twitterGradient))\n",
    "\n",
    "# these values must be integers! attention that .astype does not change the format of the image in place\n",
    "twitterGradient = twitterGradient.astype('uint8')\n",
    "\n",
    "# let's check how it looks like\n",
    "print(np.min(twitterGradient))\n",
    "print(np.max(twitterGradient))\n",
    "\n",
    "imageEdges = Image.fromarray(twitterGradient)\n",
    "\n",
    "display(imageEdges)\n",
    "\n",
    "\n"
   ]
  },
  {
   "cell_type": "code",
   "execution_count": null,
   "metadata": {},
   "outputs": [],
   "source": [
    "# NEXT: do it for the another (SIMPLE) image !\n",
    "# better to use: grayimage = image.convert('L')\n",
    "# can you merge axis=0  and axis=1, to get better results? (try with twitter first!)\n",
    "\n",
    "# ****************** \n",
    "# 2. YOUR CODE HERE"
   ]
  },
  {
   "cell_type": "code",
   "execution_count": null,
   "metadata": {},
   "outputs": [],
   "source": []
  },
  {
   "cell_type": "markdown",
   "metadata": {},
   "source": [
    "# Exercise 3: Image Processing From Scratch\n",
    "\n",
    "\n",
    "\n",
    "### Project Goal\n",
    "\n",
    "Write your own Instagram filter!\n",
    "\n",
    "The plot below shows histograms of the RGB colorspace.  Think about how you might manipulate the pixels to change those histograms and \"enhance\" your favorite photo."
   ]
  },
  {
   "cell_type": "code",
   "execution_count": null,
   "metadata": {},
   "outputs": [],
   "source": [
    "%matplotlib notebook\n",
    "import matplotlib\n",
    "import numpy as np\n",
    "import matplotlib.pyplot as plt\n",
    "\n",
    "def print_RGB_histogram(image_array):\n",
    "    num_bins = 255\n",
    "\n",
    "    fig, ax = plt.subplots(3, sharex=True)\n",
    "\n",
    "    # the histogram of the data\n",
    "    n, bins, patches = ax[0].hist(image_array[:,:,0].flatten(), num_bins, color=\"red\")\n",
    "    n, bins, patches = ax[1].hist(image_array[:,:,1].flatten(), num_bins, color=\"green\")\n",
    "    n, bins, patches = ax[2].hist(image_array[:,:,2].flatten(), num_bins, color=\"blue\")\n",
    "\n",
    "    plt.show()"
   ]
  },
  {
   "cell_type": "code",
   "execution_count": null,
   "metadata": {},
   "outputs": [],
   "source": [
    "# show the RGB histogram for some of the photos we have seen (the bear! or the dark bear, or the overexposed bear)\n",
    "\n",
    "# ****************** \n",
    "# 3. YOUR CODE HERE"
   ]
  },
  {
   "cell_type": "code",
   "execution_count": null,
   "metadata": {},
   "outputs": [],
   "source": []
  },
  {
   "cell_type": "code",
   "execution_count": null,
   "metadata": {},
   "outputs": [],
   "source": []
  },
  {
   "cell_type": "markdown",
   "metadata": {},
   "source": [
    "# Exercise 4: We are ready to complete the assignment!\n",
    "\n",
    "\n",
    "\n",
    "### New images from online!\n",
    "- let's download a new image\n",
    "- let's fix its light!\n"
   ]
  },
  {
   "cell_type": "code",
   "execution_count": null,
   "metadata": {},
   "outputs": [],
   "source": [
    "from urllib.parse import urlparse\n",
    "import urllib.robotparser\n",
    "\n",
    "# This code checks the robots.txt file (from the Text: web scraping)\n",
    "def canFetch(url):\n",
    "\n",
    "    parsed_uri = urlparse(url)\n",
    "    domain = '{uri.scheme}://{uri.netloc}/'.format(uri=parsed_uri)\n",
    "\n",
    "    rp = urllib.robotparser.RobotFileParser()\n",
    "    rp.set_url(domain + \"/robots.txt\")\n",
    "    try:\n",
    "        rp.read()\n",
    "        canFetchBool = rp.can_fetch(\"*\", url)\n",
    "    except:\n",
    "        canFetchBool = None\n",
    "    \n",
    "    return canFetchBool"
   ]
  },
  {
   "cell_type": "code",
   "execution_count": null,
   "metadata": {},
   "outputs": [],
   "source": [
    "url = 'https://phlearn.com/wp-content/uploads/2018/04/save-underexposed-before-1200.jpg'\n",
    "canFetch(url)"
   ]
  },
  {
   "cell_type": "code",
   "execution_count": null,
   "metadata": {},
   "outputs": [],
   "source": [
    "# let's get the image from the web!\n",
    "\n",
    "if canFetch(url):\n",
    "    image = Image.open(urllib.request.urlopen(url))"
   ]
  },
  {
   "cell_type": "code",
   "execution_count": null,
   "metadata": {},
   "outputs": [],
   "source": [
    "# here is the image... it is dark, isn't it?\n",
    "\n",
    "display(image)"
   ]
  },
  {
   "cell_type": "code",
   "execution_count": null,
   "metadata": {},
   "outputs": [],
   "source": [
    "# let's transform it to a numpy array\n",
    "im_array = np.array(image)"
   ]
  },
  {
   "cell_type": "code",
   "execution_count": null,
   "metadata": {
    "scrolled": true
   },
   "outputs": [],
   "source": [
    "# let's plot its hystogram (and let's think what we can do to make it better)\n",
    "\n",
    "# ****************** \n",
    "# 4. YOUR CODE HERE"
   ]
  },
  {
   "cell_type": "code",
   "execution_count": null,
   "metadata": {},
   "outputs": [],
   "source": [
    "# GOAL: let's make it brighter! \n",
    "# no pixel larger than 255\n",
    "# make pixels well distributed btw 0 and 255\n",
    "\n",
    "# ****************** \n",
    "# 5. YOUR CODE HERE"
   ]
  },
  {
   "cell_type": "code",
   "execution_count": null,
   "metadata": {},
   "outputs": [],
   "source": [
    "# check the new hystogram\n",
    "\n",
    "# ****************** \n",
    "# 6. YOUR CODE HERE"
   ]
  },
  {
   "cell_type": "code",
   "execution_count": null,
   "metadata": {},
   "outputs": [],
   "source": [
    "#show the new fixed image!\n",
    "\n",
    "# ****************** \n",
    "# 7. YOUR CODE HERE"
   ]
  },
  {
   "cell_type": "code",
   "execution_count": null,
   "metadata": {},
   "outputs": [],
   "source": []
  },
  {
   "cell_type": "code",
   "execution_count": null,
   "metadata": {},
   "outputs": [],
   "source": []
  },
  {
   "cell_type": "code",
   "execution_count": null,
   "metadata": {},
   "outputs": [],
   "source": []
  },
  {
   "cell_type": "code",
   "execution_count": null,
   "metadata": {},
   "outputs": [],
   "source": []
  },
  {
   "cell_type": "code",
   "execution_count": null,
   "metadata": {},
   "outputs": [],
   "source": []
  },
  {
   "cell_type": "code",
   "execution_count": null,
   "metadata": {},
   "outputs": [],
   "source": []
  }
 ],
 "metadata": {
  "kernelspec": {
   "display_name": "Python 3",
   "language": "python",
   "name": "python3"
  },
  "language_info": {
   "codemirror_mode": {
    "name": "ipython",
    "version": 3
   },
   "file_extension": ".py",
   "mimetype": "text/x-python",
   "name": "python",
   "nbconvert_exporter": "python",
   "pygments_lexer": "ipython3",
   "version": "3.6.7"
  }
 },
 "nbformat": 4,
 "nbformat_minor": 2
}
